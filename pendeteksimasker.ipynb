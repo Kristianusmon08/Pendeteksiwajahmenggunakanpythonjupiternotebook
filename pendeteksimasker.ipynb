{
 "cells": [
  {
   "cell_type": "code",
   "execution_count": 2,
   "metadata": {},
   "outputs": [],
   "source": [
    "#Aplikasi sederhana mendeteksi masker\n",
    "import cv2"
   ]
  },
  {
   "cell_type": "code",
   "execution_count": 3,
   "metadata": {},
   "outputs": [],
   "source": [
    "#memanggil Casecade Classfier di folder Downloads\n",
    "faceCascade = cv2.CascadeClassifier(\"Downloads/haarcascade_frontalface_default.xml\")\n",
    "noseCascade = cv2.CascadeClassifier(\"Downloads/nose/Nariz.xml\")\n"
   ]
  },
  {
   "cell_type": "code",
   "execution_count": 15,
   "metadata": {},
   "outputs": [
    {
     "ename": "KeyboardInterrupt",
     "evalue": "",
     "output_type": "error",
     "traceback": [
      "\u001b[1;31m---------------------------------------------------------------------------\u001b[0m",
      "\u001b[1;31mKeyboardInterrupt\u001b[0m                         Traceback (most recent call last)",
      "\u001b[1;32m<ipython-input-15-311225d6ed08>\u001b[0m in \u001b[0;36m<module>\u001b[1;34m\u001b[0m\n\u001b[0;32m      5\u001b[0m \u001b[1;32mwhile\u001b[0m \u001b[1;32mTrue\u001b[0m\u001b[1;33m:\u001b[0m\u001b[1;33m\u001b[0m\u001b[1;33m\u001b[0m\u001b[0m\n\u001b[0;32m      6\u001b[0m     \u001b[1;31m#mengambil frame by frame pada gambar wajah\u001b[0m\u001b[1;33m\u001b[0m\u001b[1;33m\u001b[0m\u001b[1;33m\u001b[0m\u001b[0m\n\u001b[1;32m----> 7\u001b[1;33m     \u001b[0mret\u001b[0m\u001b[1;33m,\u001b[0m \u001b[0mframe\u001b[0m\u001b[1;33m=\u001b[0m \u001b[0mvideo_capture\u001b[0m\u001b[1;33m.\u001b[0m\u001b[0mread\u001b[0m\u001b[1;33m(\u001b[0m\u001b[1;33m)\u001b[0m\u001b[1;33m\u001b[0m\u001b[1;33m\u001b[0m\u001b[0m\n\u001b[0m\u001b[0;32m      8\u001b[0m     \u001b[0mgray\u001b[0m \u001b[1;33m=\u001b[0m \u001b[0mcv2\u001b[0m\u001b[1;33m.\u001b[0m\u001b[0mcvtColor\u001b[0m\u001b[1;33m(\u001b[0m\u001b[0mframe\u001b[0m\u001b[1;33m,\u001b[0m \u001b[0mcv2\u001b[0m\u001b[1;33m.\u001b[0m\u001b[0mCOLOR_BGR2GRAY\u001b[0m\u001b[1;33m)\u001b[0m\u001b[1;33m\u001b[0m\u001b[1;33m\u001b[0m\u001b[0m\n\u001b[0;32m      9\u001b[0m     \u001b[0mwajah\u001b[0m \u001b[1;33m=\u001b[0m \u001b[0mfaceCascade\u001b[0m\u001b[1;33m.\u001b[0m\u001b[0mdetectMultiScale\u001b[0m\u001b[1;33m(\u001b[0m\u001b[0mgray\u001b[0m\u001b[1;33m,\u001b[0m \u001b[1;36m1.1\u001b[0m\u001b[1;33m,\u001b[0m \u001b[1;36m5\u001b[0m\u001b[1;33m)\u001b[0m\u001b[1;33m\u001b[0m\u001b[1;33m\u001b[0m\u001b[0m\n",
      "\u001b[1;31mKeyboardInterrupt\u001b[0m: "
     ]
    }
   ],
   "source": [
    "#Mmebuka Kamera laptop\n",
    "video_capture = cv2.VideoCapture(0)\n",
    "mask_on = False\n",
    "\n",
    "while True:\n",
    "    #mengambil frame by frame pada gambar wajah\n",
    "    ret, frame= video_capture.read()\n",
    "    gray = cv2.cvtColor(frame, cv2.COLOR_BGR2GRAY)\n",
    "    wajah = faceCascade.detectMultiScale(gray, 1.1, 5)\n",
    "    \n",
    "    #gambar kotak diwajah\n",
    "    \n",
    "    for(x, y, w, h) in wajah:\n",
    "        roi_gray = gray[y:y+h, x:x+w]\n",
    "        roi_color = frame[y:y+h, x:x+w]\n",
    "        if mask_on:\n",
    "            cv2.rectangle(frame,(x,y), (x+w, y+h),( 0, 255,0),3)\n",
    "            cv2.putText(frame,\"Pake Masker\",(x,y), cv2.FONT_HERSHEY_SIMPLEX ,2,(0,255,0),5)       \n",
    "        else:\n",
    "            cv2.rectangle(frame,(x,y), (x+w, y+h),( 0, 255,0),3)\n",
    "            cv2.putText(frame,\"Tidak Pake Masker\",(x,y), cv2.FONT_HERSHEY_SIMPLEX ,2,(0,0,255),5)\n",
    "            os.system(\"\")\n",
    "            time.sleep(1)\n",
    "            \n",
    "        \n",
    "    #gambar hidung\n",
    "    hidung = noseCascade.detectMultiScale(roi_gray, 1.18 , 35,)\n",
    "    for(sx, sy, sw, sh) in hidung:\n",
    "        cv2.rectangle(roi_color, (sh, sy), (sx+sw, sy+sh), (255,0,0),2)\n",
    "        cv2.putText(frame, 'Hidungku', (x + sx,y + sy), 1 , 1, (0, 255, 0),1)\n",
    "        \n",
    "    if len(hidung)>0:\n",
    "        mask_on = False\n",
    "    else:\n",
    "        mask_on = True\n",
    "        \n",
    "        \n",
    "    cv2.putText(frame,'Jumlah Wajah: ' + str(len(wajah)),(30,30), cv2.FONT_HERSHEY_SIMPLEX, 1,(255,0,0),5)\n",
    "    cv2.imshow('video', frame)\n",
    "     \n",
    "        \n",
    "    if cv2.waitKey(1) & 0xFF == ord('q'):\n",
    "     break\n",
    "            \n",
    "video_capture.release()\n",
    "cv2.destroyALLWiondows()\n"
   ]
  },
  {
   "cell_type": "code",
   "execution_count": null,
   "metadata": {},
   "outputs": [],
   "source": []
  }
 ],
 "metadata": {
  "kernelspec": {
   "display_name": "Python 3",
   "language": "python",
   "name": "python3"
  },
  "language_info": {
   "codemirror_mode": {
    "name": "ipython",
    "version": 3
   },
   "file_extension": ".py",
   "mimetype": "text/x-python",
   "name": "python",
   "nbconvert_exporter": "python",
   "pygments_lexer": "ipython3",
   "version": "3.8.5"
  }
 },
 "nbformat": 4,
 "nbformat_minor": 4
}
